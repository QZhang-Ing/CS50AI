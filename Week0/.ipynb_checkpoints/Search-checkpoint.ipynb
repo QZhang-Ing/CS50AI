{
 "cells": [
  {
   "cell_type": "markdown",
   "metadata": {},
   "source": [
    "# Search"
   ]
  },
  {
   "cell_type": "markdown",
   "metadata": {},
   "source": [
    "**Agent** is an entity that perceives its environment(state) and acts upon the current environment(state)"
   ]
  },
  {
   "cell_type": "markdown",
   "metadata": {},
   "source": [
    "`ACTIONS(s)` returns the set of actions that can be executed in state s"
   ]
  },
  {
   "cell_type": "markdown",
   "metadata": {},
   "source": [
    "**transition model** `RESULT(s,a)`returns the state resulting from conducting action a in state s"
   ]
  },
  {
   "cell_type": "markdown",
   "metadata": {},
   "source": [
    "**A search problem** is get a sequence of actions that leads from the initial state to a goal state"
   ]
  },
  {
   "cell_type": "markdown",
   "metadata": {},
   "source": [
    "**An optimal solution** is a solution which has the lowest (path) cost among all solutions"
   ]
  },
  {
   "cell_type": "markdown",
   "metadata": {},
   "source": [
    "**Node** is a data structure that contains information of:\n",
    "* a state\n",
    "* a parent (the previous node that generated this node)\n",
    "* an action (the action applied to the patent to get this node)\n",
    "* a path cost (from the initial state to this node)"
   ]
  },
  {
   "cell_type": "markdown",
   "metadata": {},
   "source": [
    "### how to reach the goal state from the initial state (the search of the path)"
   ]
  },
  {
   "cell_type": "markdown",
   "metadata": {},
   "source": [
    "#### Basic Approach\n",
    "1. Start with a frontier (inital state)\n",
    "2. Repeat:\n",
    "    * if: the frontier is empty, then finish (no initial state, no solution)\n",
    "    * else: Remove(generate) a node from the frontier\n",
    "        * if the node contains goal state, solution found.\n",
    "        * else: Expand node, add resulting/sequence nodes to the frontier"
   ]
  },
  {
   "cell_type": "markdown",
   "metadata": {},
   "source": [
    "**Problem**: if a generated node can also return to the previous/parent node\n",
    "It will lead the search process to a infinite loop\n",
    "**How to solve it**: \n",
    "\n",
    "#### Revised Approach\n",
    "**Add a explored set** to the basic approach to store the nodes which have already been explored.\n",
    "which means only the unexplored nodes will be add to the frontier."
   ]
  },
  {
   "cell_type": "markdown",
   "metadata": {},
   "source": [
    "## Search Methods"
   ]
  },
  {
   "cell_type": "markdown",
   "metadata": {},
   "source": [
    "### Depth-First Search -- DFS"
   ]
  },
  {
   "cell_type": "markdown",
   "metadata": {},
   "source": [
    "key -- algorithm always expands the deppest node in the frontier, in plain text, if it comes to a cross, algorithm will randomly choose one and go through it to the very end. If not found, try the others.\n",
    "**Stack** is used to the frontier -- First in First out -- to the end"
   ]
  },
  {
   "cell_type": "markdown",
   "metadata": {},
   "source": [
    "### Breadth-First Search -- BFS"
   ]
  },
  {
   "cell_type": "markdown",
   "metadata": {},
   "source": [
    "key -- algorithm always expands the shallowest node in the frontier. \n",
    "**Queue** is used to frontier -- Firse in Last out\n",
    "Compare to the DFS, it searches both options one after the other when it comes to a cross"
   ]
  },
  {
   "cell_type": "markdown",
   "metadata": {},
   "source": [
    "#### Which one is better?\n",
    "DFS sometimes doesnt find the optimal solution, because it finds one solution then stops, no matter if there is other better pathes.\n",
    "BFS can find the better solution than DFS but it mostly consumes more memory because it explores more nodes"
   ]
  },
  {
   "cell_type": "markdown",
   "metadata": {},
   "source": [
    "## Informed search\n",
    "problem sepecific knowledge is used to find solution more efficiently(less randomly)\n"
   ]
  },
  {
   "cell_type": "markdown",
   "metadata": {},
   "source": [
    "#### greedy best-first search\n",
    "algorithm expands the node which is closest to the goal state, as estimated by heristic function $h(n)$\n",
    "this method may not find the optimal solution\n"
   ]
  },
  {
   "cell_type": "markdown",
   "metadata": {},
   "source": [
    "#### A* search\n",
    "algorithm expands the node which has the lowest value of $g(n) + h(n)$:\n",
    "$g(n)$ = cost to reach this node (previous steps)\n",
    "$h(n)$ = estimated cost to goal\n",
    "this methon will more likely to find the optimal solution, if:"
   ]
  },
  {
   "cell_type": "markdown",
   "metadata": {},
   "source": [
    "* $h(n)$ is never overestimated than the true cost, which means it can be true or underestimated\n",
    "* $h(n)$ (for every node n and succesor n' with step cost c, h(n) <= h(n') + c)"
   ]
  },
  {
   "cell_type": "markdown",
   "metadata": {},
   "source": [
    "## basic search algrithm for BFS and DFS"
   ]
  },
  {
   "cell_type": "code",
   "execution_count": null,
   "metadata": {},
   "outputs": [],
   "source": [
    "# create node store each state and action\n",
    "class Node():\n",
    "    def __init__(self, state, parent, action):\n",
    "        self.state = state\n",
    "        self.parent = parent\n",
    "        self.action = action\n",
    "\n",
    "# DFS\n",
    "class StackFrontier():\n",
    "    def __init__(self):\n",
    "        self.frontier = []\n",
    "\n",
    "    def add(self, node):\n",
    "        self.frontier.append(node)\n",
    "\n",
    "    def contains_state(self, state):\n",
    "        return any(node.state == state for node in self.frontier)\n",
    "\n",
    "    def empty(self):\n",
    "        return len(self.frontier) == 0\n",
    "\n",
    "    def remove(self):\n",
    "        if self.empty():\n",
    "            raise Exception(\"empty frontier\")\n",
    "        else:\n",
    "            node = self.frontier[-1]\n",
    "            self.frontier = self.frontier[:-1]\n",
    "            return node\n",
    "\n",
    "# BFS\n",
    "class QueueFrontier(StackFrontier):\n",
    "\n",
    "    def remove(self):\n",
    "        if self.empty():\n",
    "            raise Exception(\"empty frontier\")\n",
    "        else:\n",
    "            node = self.frontier[0]\n",
    "            self.frontier = self.frontier[1:]\n",
    "            return node\n"
   ]
  },
  {
   "cell_type": "code",
   "execution_count": null,
   "metadata": {},
   "outputs": [],
   "source": [
    "def main():\n",
    "    # keep track of number of node already explored\n",
    "    num_explored = 0\n",
    "    # initilize the explore set\n",
    "    explore_set = set()\n",
    "\n",
    "    # create a node which indicates the starting (source)\n",
    "    start = Node(state = source, parent = None, action = None)\n",
    "    # create frontier with the starting node using Stack Frontier\n",
    "    frontier = QueueFrontier()\n",
    "    # add starting node to frontier\n",
    "    frontier.add(start)\n",
    "\n",
    "    # keep trying till find target node\n",
    "    while True:\n",
    "        # if frontier is empty then no solution\n",
    "        if frontier.empty():\n",
    "            return None\n",
    "        else:\n",
    "            # get node from frontier: Stack -> LIFO\n",
    "            node = frontier.remove()\n",
    "            num_explored += 1\n",
    "\n",
    "            # if found, trace back to the source\n",
    "            if node.state == target:\n",
    "                # list to store actions of each previous nodes\n",
    "                actions = []\n",
    "                # list to store states of each previous nodes\n",
    "                cells = []\n",
    "                while node.parent is not None:\n",
    "                    actions.append(node.action)\n",
    "                    cells.append(node.state)\n",
    "                    node = node.parent\n",
    "                actions.reverse()\n",
    "                cells.reverse()\n",
    "                solution = []\n",
    "                for index in range(len(actions)):\n",
    "                    solution.append((actions[index], cells[index]))\n",
    "                print(f\"Total Explored: {len(explore_set)}\")\n",
    "                return solution\n",
    "            # if solution not found yet, explore the next node\n",
    "            # record the previous node in explore_set (only person_id)\n",
    "            explore_set.add(node.state)\n",
    "\n",
    "            # add neighbors node to frontier\n",
    "            for action, state in neighbors_for_person(node.state):\n",
    "                if  state == None or  action == None:\n",
    "                    return None\n",
    "                elif not frontier.contains_state(state) and state not in explore_set:\n",
    "                    child = Node(state = state, parent = node, action = action)\n",
    "                    # add child node to frontier\n",
    "                    frontier.add(child)"
   ]
  }
 ],
 "metadata": {
  "kernelspec": {
   "display_name": "Python 3",
   "language": "python",
   "name": "python3"
  },
  "language_info": {
   "codemirror_mode": {
    "name": "ipython",
    "version": 3
   },
   "file_extension": ".py",
   "mimetype": "text/x-python",
   "name": "python",
   "nbconvert_exporter": "python",
   "pygments_lexer": "ipython3",
   "version": "3.8.3"
  }
 },
 "nbformat": 4,
 "nbformat_minor": 4
}
